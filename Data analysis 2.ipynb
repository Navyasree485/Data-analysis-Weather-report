{
 "cells": [
  {
   "cell_type": "code",
   "execution_count": null,
   "id": "9254d321",
   "metadata": {},
   "outputs": [],
   "source": [
    "import pandas as pd\n",
    "import matplotlib.pyplot as plt\n",
    "import numpy as np\n",
    "import seaborn as sns"
   ]
  },
  {
   "cell_type": "code",
   "execution_count": null,
   "id": "acba1733",
   "metadata": {},
   "outputs": [],
   "source": [
    "data = pd.read_csv(\"file.csv\")"
   ]
  },
  {
   "cell_type": "markdown",
   "id": "1998d2f4",
   "metadata": {},
   "source": [
    "# Analysing Dataframes"
   ]
  },
  {
   "cell_type": "code",
   "execution_count": 4,
   "id": "44fd0cde",
   "metadata": {
    "scrolled": true
   },
   "outputs": [
    {
     "data": {
      "text/html": [
       "<div>\n",
       "<style scoped>\n",
       "    .dataframe tbody tr th:only-of-type {\n",
       "        vertical-align: middle;\n",
       "    }\n",
       "\n",
       "    .dataframe tbody tr th {\n",
       "        vertical-align: top;\n",
       "    }\n",
       "\n",
       "    .dataframe thead th {\n",
       "        text-align: right;\n",
       "    }\n",
       "</style>\n",
       "<table border=\"1\" class=\"dataframe\">\n",
       "  <thead>\n",
       "    <tr style=\"text-align: right;\">\n",
       "      <th></th>\n",
       "      <th>Date/Time</th>\n",
       "      <th>Temp_C</th>\n",
       "      <th>Dew Point Temp_C</th>\n",
       "      <th>Rel Hum_%</th>\n",
       "      <th>Wind Speed_km/h</th>\n",
       "      <th>Visibility_km</th>\n",
       "      <th>Press_kPa</th>\n",
       "      <th>Weather</th>\n",
       "    </tr>\n",
       "  </thead>\n",
       "  <tbody>\n",
       "    <tr>\n",
       "      <th>0</th>\n",
       "      <td>1/1/2012 0:00</td>\n",
       "      <td>-1.8</td>\n",
       "      <td>-3.9</td>\n",
       "      <td>86</td>\n",
       "      <td>4</td>\n",
       "      <td>8.0</td>\n",
       "      <td>101.24</td>\n",
       "      <td>Fog</td>\n",
       "    </tr>\n",
       "    <tr>\n",
       "      <th>1</th>\n",
       "      <td>1/1/2012 1:00</td>\n",
       "      <td>-1.8</td>\n",
       "      <td>-3.7</td>\n",
       "      <td>87</td>\n",
       "      <td>4</td>\n",
       "      <td>8.0</td>\n",
       "      <td>101.24</td>\n",
       "      <td>Fog</td>\n",
       "    </tr>\n",
       "    <tr>\n",
       "      <th>2</th>\n",
       "      <td>1/1/2012 2:00</td>\n",
       "      <td>-1.8</td>\n",
       "      <td>-3.4</td>\n",
       "      <td>89</td>\n",
       "      <td>7</td>\n",
       "      <td>4.0</td>\n",
       "      <td>101.26</td>\n",
       "      <td>Freezing Drizzle,Fog</td>\n",
       "    </tr>\n",
       "    <tr>\n",
       "      <th>3</th>\n",
       "      <td>1/1/2012 3:00</td>\n",
       "      <td>-1.5</td>\n",
       "      <td>-3.2</td>\n",
       "      <td>88</td>\n",
       "      <td>6</td>\n",
       "      <td>4.0</td>\n",
       "      <td>101.27</td>\n",
       "      <td>Freezing Drizzle,Fog</td>\n",
       "    </tr>\n",
       "    <tr>\n",
       "      <th>4</th>\n",
       "      <td>1/1/2012 4:00</td>\n",
       "      <td>-1.5</td>\n",
       "      <td>-3.3</td>\n",
       "      <td>88</td>\n",
       "      <td>7</td>\n",
       "      <td>4.8</td>\n",
       "      <td>101.23</td>\n",
       "      <td>Fog</td>\n",
       "    </tr>\n",
       "  </tbody>\n",
       "</table>\n",
       "</div>"
      ],
      "text/plain": [
       "       Date/Time  Temp_C  Dew Point Temp_C  Rel Hum_%  Wind Speed_km/h  \\\n",
       "0  1/1/2012 0:00    -1.8              -3.9         86                4   \n",
       "1  1/1/2012 1:00    -1.8              -3.7         87                4   \n",
       "2  1/1/2012 2:00    -1.8              -3.4         89                7   \n",
       "3  1/1/2012 3:00    -1.5              -3.2         88                6   \n",
       "4  1/1/2012 4:00    -1.5              -3.3         88                7   \n",
       "\n",
       "   Visibility_km  Press_kPa               Weather  \n",
       "0            8.0     101.24                   Fog  \n",
       "1            8.0     101.24                   Fog  \n",
       "2            4.0     101.26  Freezing Drizzle,Fog  \n",
       "3            4.0     101.27  Freezing Drizzle,Fog  \n",
       "4            4.8     101.23                   Fog  "
      ]
     },
     "execution_count": 4,
     "metadata": {},
     "output_type": "execute_result"
    }
   ],
   "source": [
    "data.head()"
   ]
  },
  {
   "cell_type": "code",
   "execution_count": 48,
   "id": "7a46a89f",
   "metadata": {
    "scrolled": true
   },
   "outputs": [
    {
     "data": {
      "text/plain": [
       "<AxesSubplot:>"
      ]
     },
     "execution_count": 48,
     "metadata": {},
     "output_type": "execute_result"
    },
    {
     "data": {
      "image/png": "[encoded data removed]",
      "text/plain": [
       "<Figure size 640x480 with 2 Axes>"
      ]
     },
     "metadata": {},
     "output_type": "display_data"
    }
   ],
   "source": [
    "sns.heatmap(data.isnull())"
   ]
  },
  {
   "cell_type": "code",
   "execution_count": 7,
   "id": "f7711b45",
   "metadata": {},
   "outputs": [
    {
     "data": {
      "text/plain": [
       "(8784, 8)"
      ]
     },
     "execution_count": 7,
     "metadata": {},
     "output_type": "execute_result"
    }
   ],
   "source": [
    "data.shape"
   ]
  },
  {
   "cell_type": "code",
   "execution_count": 6,
   "id": "7d60b056",
   "metadata": {},
   "outputs": [
    {
     "data": {
      "text/plain": [
       "RangeIndex(start=0, stop=8784, step=1)"
      ]
     },
     "execution_count": 6,
     "metadata": {},
     "output_type": "execute_result"
    }
   ],
   "source": [
    "data.index"
   ]
  },
  {
   "cell_type": "code",
   "execution_count": 7,
   "id": "28f6d6ae",
   "metadata": {},
   "outputs": [
    {
     "data": {
      "text/plain": [
       "Date/Time           8784\n",
       "Temp_C               533\n",
       "Dew Point Temp_C     489\n",
       "Rel Hum_%             83\n",
       "Wind Speed_km/h       34\n",
       "Visibility_km         24\n",
       "Press_kPa            518\n",
       "Weather               50\n",
       "dtype: int64"
      ]
     },
     "execution_count": 7,
     "metadata": {},
     "output_type": "execute_result"
    }
   ],
   "source": [
    "data.nunique()"
   ]
  },
  {
   "cell_type": "code",
   "execution_count": 8,
   "id": "8ae66ba4",
   "metadata": {},
   "outputs": [
    {
     "data": {
      "text/plain": [
       "Date/Time           8784\n",
       "Temp_C              8784\n",
       "Dew Point Temp_C    8784\n",
       "Rel Hum_%           8784\n",
       "Wind Speed_km/h     8784\n",
       "Visibility_km       8784\n",
       "Press_kPa           8784\n",
       "Weather             8784\n",
       "dtype: int64"
      ]
     },
     "execution_count": 8,
     "metadata": {},
     "output_type": "execute_result"
    }
   ],
   "source": [
    "data.count()"
   ]
  },
  {
   "cell_type": "code",
   "execution_count": 9,
   "id": "053f73da",
   "metadata": {
    "scrolled": true
   },
   "outputs": [
    {
     "name": "stdout",
     "output_type": "stream",
     "text": [
      "<class 'pandas.core.frame.DataFrame'>\n",
      "RangeIndex: 8784 entries, 0 to 8783\n",
      "Data columns (total 8 columns):\n",
      " #   Column            Non-Null Count  Dtype  \n",
      "---  ------            --------------  -----  \n",
      " 0   Date/Time         8784 non-null   object \n",
      " 1   Temp_C            8784 non-null   float64\n",
      " 2   Dew Point Temp_C  8784 non-null   float64\n",
      " 3   Rel Hum_%         8784 non-null   int64  \n",
      " 4   Wind Speed_km/h   8784 non-null   int64  \n",
      " 5   Visibility_km     8784 non-null   float64\n",
      " 6   Press_kPa         8784 non-null   float64\n",
      " 7   Weather           8784 non-null   object \n",
      "dtypes: float64(4), int64(2), object(2)\n",
      "memory usage: 549.1+ KB\n"
     ]
    }
   ],
   "source": [
    "data.info()"
   ]
  },
  {
   "cell_type": "code",
   "execution_count": 14,
   "id": "fd10264e",
   "metadata": {
    "scrolled": false
   },
   "outputs": [
    {
     "name": "stdout",
     "output_type": "stream",
     "text": [
      "1/1/2012 0:00\n"
     ]
    }
   ],
   "source": [
    "print (data['Date/Time'].min())"
   ]
  },
  {
   "cell_type": "code",
   "execution_count": 13,
   "id": "52a323e6",
   "metadata": {},
   "outputs": [
    {
     "name": "stdout",
     "output_type": "stream",
     "text": [
      "9/9/2012 9:00\n"
     ]
    }
   ],
   "source": [
    "print(data['Date/Time'].max())"
   ]
  },
  {
   "cell_type": "code",
   "execution_count": null,
   "id": "83aa1a07",
   "metadata": {},
   "outputs": [],
   "source": [
    "# Data is available from jan 2012 to Sep 2012"
   ]
  },
  {
   "cell_type": "markdown",
   "id": "12b78e26",
   "metadata": {},
   "source": [
    "# Unique values of weather in the data"
   ]
  },
  {
   "cell_type": "code",
   "execution_count": 4,
   "id": "d7d86f02",
   "metadata": {},
   "outputs": [
    {
     "data": {
      "text/html": [
       "<div>\n",
       "<style scoped>\n",
       "    .dataframe tbody tr th:only-of-type {\n",
       "        vertical-align: middle;\n",
       "    }\n",
       "\n",
       "    .dataframe tbody tr th {\n",
       "        vertical-align: top;\n",
       "    }\n",
       "\n",
       "    .dataframe thead th {\n",
       "        text-align: right;\n",
       "    }\n",
       "</style>\n",
       "<table border=\"1\" class=\"dataframe\">\n",
       "  <thead>\n",
       "    <tr style=\"text-align: right;\">\n",
       "      <th></th>\n",
       "      <th>Date/Time</th>\n",
       "      <th>Temp_C</th>\n",
       "      <th>Dew Point Temp_C</th>\n",
       "      <th>Rel Hum_%</th>\n",
       "      <th>Wind Speed_km/h</th>\n",
       "      <th>Visibility_km</th>\n",
       "      <th>Press_kPa</th>\n",
       "      <th>Weather</th>\n",
       "    </tr>\n",
       "  </thead>\n",
       "  <tbody>\n",
       "    <tr>\n",
       "      <th>0</th>\n",
       "      <td>1/1/2012 0:00</td>\n",
       "      <td>-1.8</td>\n",
       "      <td>-3.9</td>\n",
       "      <td>86</td>\n",
       "      <td>4</td>\n",
       "      <td>8.0</td>\n",
       "      <td>101.24</td>\n",
       "      <td>Fog</td>\n",
       "    </tr>\n",
       "    <tr>\n",
       "      <th>1</th>\n",
       "      <td>1/1/2012 1:00</td>\n",
       "      <td>-1.8</td>\n",
       "      <td>-3.7</td>\n",
       "      <td>87</td>\n",
       "      <td>4</td>\n",
       "      <td>8.0</td>\n",
       "      <td>101.24</td>\n",
       "      <td>Fog</td>\n",
       "    </tr>\n",
       "  </tbody>\n",
       "</table>\n",
       "</div>"
      ],
      "text/plain": [
       "       Date/Time  Temp_C  Dew Point Temp_C  Rel Hum_%  Wind Speed_km/h  \\\n",
       "0  1/1/2012 0:00    -1.8              -3.9         86                4   \n",
       "1  1/1/2012 1:00    -1.8              -3.7         87                4   \n",
       "\n",
       "   Visibility_km  Press_kPa Weather  \n",
       "0            8.0     101.24     Fog  \n",
       "1            8.0     101.24     Fog  "
      ]
     },
     "execution_count": 4,
     "metadata": {},
     "output_type": "execute_result"
    }
   ],
   "source": [
    "data.head(2)"
   ]
  },
  {
   "cell_type": "code",
   "execution_count": 5,
   "id": "fb46d204",
   "metadata": {},
   "outputs": [
    {
     "data": {
      "text/plain": [
       "50"
      ]
     },
     "execution_count": 5,
     "metadata": {},
     "output_type": "execute_result"
    }
   ],
   "source": [
    "data['Weather'].nunique()"
   ]
  },
  {
   "cell_type": "code",
   "execution_count": 6,
   "id": "fd0840ac",
   "metadata": {},
   "outputs": [
    {
     "data": {
      "text/plain": [
       "array(['Fog', 'Freezing Drizzle,Fog', 'Mostly Cloudy', 'Cloudy', 'Rain',\n",
       "       'Rain Showers', 'Mainly Clear', 'Snow Showers', 'Snow', 'Clear',\n",
       "       'Freezing Rain,Fog', 'Freezing Rain', 'Freezing Drizzle',\n",
       "       'Rain,Snow', 'Moderate Snow', 'Freezing Drizzle,Snow',\n",
       "       'Freezing Rain,Snow Grains', 'Snow,Blowing Snow', 'Freezing Fog',\n",
       "       'Haze', 'Rain,Fog', 'Drizzle,Fog', 'Drizzle',\n",
       "       'Freezing Drizzle,Haze', 'Freezing Rain,Haze', 'Snow,Haze',\n",
       "       'Snow,Fog', 'Snow,Ice Pellets', 'Rain,Haze', 'Thunderstorms,Rain',\n",
       "       'Thunderstorms,Rain Showers', 'Thunderstorms,Heavy Rain Showers',\n",
       "       'Thunderstorms,Rain Showers,Fog', 'Thunderstorms',\n",
       "       'Thunderstorms,Rain,Fog',\n",
       "       'Thunderstorms,Moderate Rain Showers,Fog', 'Rain Showers,Fog',\n",
       "       'Rain Showers,Snow Showers', 'Snow Pellets', 'Rain,Snow,Fog',\n",
       "       'Moderate Rain,Fog', 'Freezing Rain,Ice Pellets,Fog',\n",
       "       'Drizzle,Ice Pellets,Fog', 'Drizzle,Snow', 'Rain,Ice Pellets',\n",
       "       'Drizzle,Snow,Fog', 'Rain,Snow Grains', 'Rain,Snow,Ice Pellets',\n",
       "       'Snow Showers,Fog', 'Moderate Snow,Blowing Snow'], dtype=object)"
      ]
     },
     "execution_count": 6,
     "metadata": {},
     "output_type": "execute_result"
    }
   ],
   "source": [
    "# Answer\n",
    "\n",
    "data['Weather'].unique()"
   ]
  },
  {
   "cell_type": "markdown",
   "id": "d42b0588",
   "metadata": {},
   "source": [
    "# No. of times Weather is exactly clear"
   ]
  },
  {
   "cell_type": "code",
   "execution_count": 8,
   "id": "07dde1c6",
   "metadata": {
    "scrolled": true
   },
   "outputs": [
    {
     "data": {
      "text/plain": [
       "Mainly Clear                               2106\n",
       "Mostly Cloudy                              2069\n",
       "Cloudy                                     1728\n",
       "Clear                                      1326\n",
       "Snow                                        390\n",
       "Rain                                        306\n",
       "Rain Showers                                188\n",
       "Fog                                         150\n",
       "Rain,Fog                                    116\n",
       "Drizzle,Fog                                  80\n",
       "Snow Showers                                 60\n",
       "Drizzle                                      41\n",
       "Snow,Fog                                     37\n",
       "Snow,Blowing Snow                            19\n",
       "Rain,Snow                                    18\n",
       "Thunderstorms,Rain Showers                   16\n",
       "Haze                                         16\n",
       "Drizzle,Snow,Fog                             15\n",
       "Freezing Rain                                14\n",
       "Freezing Drizzle,Snow                        11\n",
       "Freezing Drizzle                              7\n",
       "Snow,Ice Pellets                              6\n",
       "Freezing Drizzle,Fog                          6\n",
       "Snow,Haze                                     5\n",
       "Freezing Fog                                  4\n",
       "Snow Showers,Fog                              4\n",
       "Moderate Snow                                 4\n",
       "Rain,Snow,Ice Pellets                         4\n",
       "Freezing Rain,Fog                             4\n",
       "Freezing Drizzle,Haze                         3\n",
       "Rain,Haze                                     3\n",
       "Thunderstorms,Rain                            3\n",
       "Thunderstorms,Rain Showers,Fog                3\n",
       "Freezing Rain,Haze                            2\n",
       "Drizzle,Snow                                  2\n",
       "Rain Showers,Snow Showers                     2\n",
       "Thunderstorms                                 2\n",
       "Moderate Snow,Blowing Snow                    2\n",
       "Rain Showers,Fog                              1\n",
       "Thunderstorms,Moderate Rain Showers,Fog       1\n",
       "Snow Pellets                                  1\n",
       "Rain,Snow,Fog                                 1\n",
       "Moderate Rain,Fog                             1\n",
       "Freezing Rain,Ice Pellets,Fog                 1\n",
       "Drizzle,Ice Pellets,Fog                       1\n",
       "Thunderstorms,Rain,Fog                        1\n",
       "Rain,Ice Pellets                              1\n",
       "Rain,Snow Grains                              1\n",
       "Thunderstorms,Heavy Rain Showers              1\n",
       "Freezing Rain,Snow Grains                     1\n",
       "Name: Weather, dtype: int64"
      ]
     },
     "execution_count": 8,
     "metadata": {},
     "output_type": "execute_result"
    }
   ],
   "source": [
    "data.Weather.value_counts()"
   ]
  },
  {
   "cell_type": "markdown",
   "id": "c1f2f3f6",
   "metadata": {},
   "source": [
    "# No. of times windspeed was exactly 4km/h"
   ]
  },
  {
   "cell_type": "code",
   "execution_count": 6,
   "id": "069a1482",
   "metadata": {},
   "outputs": [
    {
     "data": {
      "text/html": [
       "<div>\n",
       "<style scoped>\n",
       "    .dataframe tbody tr th:only-of-type {\n",
       "        vertical-align: middle;\n",
       "    }\n",
       "\n",
       "    .dataframe tbody tr th {\n",
       "        vertical-align: top;\n",
       "    }\n",
       "\n",
       "    .dataframe thead th {\n",
       "        text-align: right;\n",
       "    }\n",
       "</style>\n",
       "<table border=\"1\" class=\"dataframe\">\n",
       "  <thead>\n",
       "    <tr style=\"text-align: right;\">\n",
       "      <th></th>\n",
       "      <th>Date/Time</th>\n",
       "      <th>Temp_C</th>\n",
       "      <th>Dew Point Temp_C</th>\n",
       "      <th>Rel Hum_%</th>\n",
       "      <th>Wind Speed_km/h</th>\n",
       "      <th>Visibility_km</th>\n",
       "      <th>Press_kPa</th>\n",
       "      <th>Weather</th>\n",
       "    </tr>\n",
       "  </thead>\n",
       "  <tbody>\n",
       "    <tr>\n",
       "      <th>0</th>\n",
       "      <td>1/1/2012 0:00</td>\n",
       "      <td>-1.8</td>\n",
       "      <td>-3.9</td>\n",
       "      <td>86</td>\n",
       "      <td>4</td>\n",
       "      <td>8.0</td>\n",
       "      <td>101.24</td>\n",
       "      <td>Fog</td>\n",
       "    </tr>\n",
       "  </tbody>\n",
       "</table>\n",
       "</div>"
      ],
      "text/plain": [
       "       Date/Time  Temp_C  Dew Point Temp_C  Rel Hum_%  Wind Speed_km/h  \\\n",
       "0  1/1/2012 0:00    -1.8              -3.9         86                4   \n",
       "\n",
       "   Visibility_km  Press_kPa Weather  \n",
       "0            8.0     101.24     Fog  "
      ]
     },
     "execution_count": 6,
     "metadata": {},
     "output_type": "execute_result"
    }
   ],
   "source": [
    "data.head(1)"
   ]
  },
  {
   "cell_type": "code",
   "execution_count": 8,
   "id": "8d403b70",
   "metadata": {},
   "outputs": [
    {
     "data": {
      "text/html": [
       "<div>\n",
       "<style scoped>\n",
       "    .dataframe tbody tr th:only-of-type {\n",
       "        vertical-align: middle;\n",
       "    }\n",
       "\n",
       "    .dataframe tbody tr th {\n",
       "        vertical-align: top;\n",
       "    }\n",
       "\n",
       "    .dataframe thead th {\n",
       "        text-align: right;\n",
       "    }\n",
       "</style>\n",
       "<table border=\"1\" class=\"dataframe\">\n",
       "  <thead>\n",
       "    <tr style=\"text-align: right;\">\n",
       "      <th></th>\n",
       "      <th>Date/Time</th>\n",
       "      <th>Temp_C</th>\n",
       "      <th>Dew Point Temp_C</th>\n",
       "      <th>Rel Hum_%</th>\n",
       "      <th>Wind Speed_km/h</th>\n",
       "      <th>Visibility_km</th>\n",
       "      <th>Press_kPa</th>\n",
       "      <th>Weather</th>\n",
       "    </tr>\n",
       "  </thead>\n",
       "  <tbody>\n",
       "    <tr>\n",
       "      <th>0</th>\n",
       "      <td>1/1/2012 0:00</td>\n",
       "      <td>-1.8</td>\n",
       "      <td>-3.9</td>\n",
       "      <td>86</td>\n",
       "      <td>4</td>\n",
       "      <td>8.0</td>\n",
       "      <td>101.24</td>\n",
       "      <td>Fog</td>\n",
       "    </tr>\n",
       "    <tr>\n",
       "      <th>1</th>\n",
       "      <td>1/1/2012 1:00</td>\n",
       "      <td>-1.8</td>\n",
       "      <td>-3.7</td>\n",
       "      <td>87</td>\n",
       "      <td>4</td>\n",
       "      <td>8.0</td>\n",
       "      <td>101.24</td>\n",
       "      <td>Fog</td>\n",
       "    </tr>\n",
       "    <tr>\n",
       "      <th>96</th>\n",
       "      <td>1/5/2012 0:00</td>\n",
       "      <td>-8.8</td>\n",
       "      <td>-11.7</td>\n",
       "      <td>79</td>\n",
       "      <td>4</td>\n",
       "      <td>9.7</td>\n",
       "      <td>100.32</td>\n",
       "      <td>Snow</td>\n",
       "    </tr>\n",
       "    <tr>\n",
       "      <th>101</th>\n",
       "      <td>1/5/2012 5:00</td>\n",
       "      <td>-7.0</td>\n",
       "      <td>-9.5</td>\n",
       "      <td>82</td>\n",
       "      <td>4</td>\n",
       "      <td>4.0</td>\n",
       "      <td>100.19</td>\n",
       "      <td>Snow</td>\n",
       "    </tr>\n",
       "    <tr>\n",
       "      <th>146</th>\n",
       "      <td>1/7/2012 2:00</td>\n",
       "      <td>-8.1</td>\n",
       "      <td>-11.1</td>\n",
       "      <td>79</td>\n",
       "      <td>4</td>\n",
       "      <td>19.3</td>\n",
       "      <td>100.15</td>\n",
       "      <td>Cloudy</td>\n",
       "    </tr>\n",
       "    <tr>\n",
       "      <th>...</th>\n",
       "      <td>...</td>\n",
       "      <td>...</td>\n",
       "      <td>...</td>\n",
       "      <td>...</td>\n",
       "      <td>...</td>\n",
       "      <td>...</td>\n",
       "      <td>...</td>\n",
       "      <td>...</td>\n",
       "    </tr>\n",
       "    <tr>\n",
       "      <th>8768</th>\n",
       "      <td>12/31/2012 8:00</td>\n",
       "      <td>-8.6</td>\n",
       "      <td>-10.3</td>\n",
       "      <td>87</td>\n",
       "      <td>4</td>\n",
       "      <td>3.2</td>\n",
       "      <td>101.14</td>\n",
       "      <td>Snow Showers</td>\n",
       "    </tr>\n",
       "    <tr>\n",
       "      <th>8769</th>\n",
       "      <td>12/31/2012 9:00</td>\n",
       "      <td>-8.1</td>\n",
       "      <td>-9.6</td>\n",
       "      <td>89</td>\n",
       "      <td>4</td>\n",
       "      <td>2.4</td>\n",
       "      <td>101.09</td>\n",
       "      <td>Snow</td>\n",
       "    </tr>\n",
       "    <tr>\n",
       "      <th>8770</th>\n",
       "      <td>12/31/2012 10:00</td>\n",
       "      <td>-7.4</td>\n",
       "      <td>-8.9</td>\n",
       "      <td>89</td>\n",
       "      <td>4</td>\n",
       "      <td>6.4</td>\n",
       "      <td>101.05</td>\n",
       "      <td>Snow,Fog</td>\n",
       "    </tr>\n",
       "    <tr>\n",
       "      <th>8772</th>\n",
       "      <td>12/31/2012 12:00</td>\n",
       "      <td>-5.8</td>\n",
       "      <td>-7.5</td>\n",
       "      <td>88</td>\n",
       "      <td>4</td>\n",
       "      <td>12.9</td>\n",
       "      <td>100.78</td>\n",
       "      <td>Snow</td>\n",
       "    </tr>\n",
       "    <tr>\n",
       "      <th>8773</th>\n",
       "      <td>12/31/2012 13:00</td>\n",
       "      <td>-4.6</td>\n",
       "      <td>-6.6</td>\n",
       "      <td>86</td>\n",
       "      <td>4</td>\n",
       "      <td>12.9</td>\n",
       "      <td>100.63</td>\n",
       "      <td>Snow</td>\n",
       "    </tr>\n",
       "  </tbody>\n",
       "</table>\n",
       "<p>474 rows × 8 columns</p>\n",
       "</div>"
      ],
      "text/plain": [
       "             Date/Time  Temp_C  Dew Point Temp_C  Rel Hum_%  Wind Speed_km/h  \\\n",
       "0        1/1/2012 0:00    -1.8              -3.9         86                4   \n",
       "1        1/1/2012 1:00    -1.8              -3.7         87                4   \n",
       "96       1/5/2012 0:00    -8.8             -11.7         79                4   \n",
       "101      1/5/2012 5:00    -7.0              -9.5         82                4   \n",
       "146      1/7/2012 2:00    -8.1             -11.1         79                4   \n",
       "...                ...     ...               ...        ...              ...   \n",
       "8768   12/31/2012 8:00    -8.6             -10.3         87                4   \n",
       "8769   12/31/2012 9:00    -8.1              -9.6         89                4   \n",
       "8770  12/31/2012 10:00    -7.4              -8.9         89                4   \n",
       "8772  12/31/2012 12:00    -5.8              -7.5         88                4   \n",
       "8773  12/31/2012 13:00    -4.6              -6.6         86                4   \n",
       "\n",
       "      Visibility_km  Press_kPa       Weather  \n",
       "0               8.0     101.24           Fog  \n",
       "1               8.0     101.24           Fog  \n",
       "96              9.7     100.32          Snow  \n",
       "101             4.0     100.19          Snow  \n",
       "146            19.3     100.15        Cloudy  \n",
       "...             ...        ...           ...  \n",
       "8768            3.2     101.14  Snow Showers  \n",
       "8769            2.4     101.09          Snow  \n",
       "8770            6.4     101.05      Snow,Fog  \n",
       "8772           12.9     100.78          Snow  \n",
       "8773           12.9     100.63          Snow  \n",
       "\n",
       "[474 rows x 8 columns]"
      ]
     },
     "execution_count": 8,
     "metadata": {},
     "output_type": "execute_result"
    }
   ],
   "source": [
    "data[data['Wind Speed_km/h']==4]"
   ]
  },
  {
   "cell_type": "markdown",
   "id": "3e47806d",
   "metadata": {},
   "source": [
    "# Mean Temperature"
   ]
  },
  {
   "cell_type": "code",
   "execution_count": 15,
   "id": "b3f4e084",
   "metadata": {},
   "outputs": [
    {
     "data": {
      "text/plain": [
       "8.79814435336981"
      ]
     },
     "execution_count": 15,
     "metadata": {},
     "output_type": "execute_result"
    }
   ],
   "source": [
    "data.Temp_C.mean()"
   ]
  },
  {
   "cell_type": "markdown",
   "id": "09af1091",
   "metadata": {},
   "source": [
    "# Standard deviation of pressure"
   ]
  },
  {
   "cell_type": "code",
   "execution_count": 16,
   "id": "aae4bb36",
   "metadata": {},
   "outputs": [
    {
     "data": {
      "text/plain": [
       "0.8440047459486474"
      ]
     },
     "execution_count": 16,
     "metadata": {},
     "output_type": "execute_result"
    }
   ],
   "source": [
    "data.Press_kPa.std()"
   ]
  },
  {
   "cell_type": "markdown",
   "id": "5c7545d2",
   "metadata": {},
   "source": [
    "# Variance of Relative humidity"
   ]
  },
  {
   "cell_type": "code",
   "execution_count": 18,
   "id": "5e2a93ad",
   "metadata": {},
   "outputs": [
    {
     "data": {
      "text/plain": [
       "286.2485501984998"
      ]
     },
     "execution_count": 18,
     "metadata": {},
     "output_type": "execute_result"
    }
   ],
   "source": [
    "data['Rel Hum_%'].var()"
   ]
  },
  {
   "cell_type": "markdown",
   "id": "93958023",
   "metadata": {},
   "source": [
    "# All the instances when snow was recorded"
   ]
  },
  {
   "cell_type": "code",
   "execution_count": 8,
   "id": "7f482c2f",
   "metadata": {},
   "outputs": [
    {
     "data": {
      "text/html": [
       "<div>\n",
       "<style scoped>\n",
       "    .dataframe tbody tr th:only-of-type {\n",
       "        vertical-align: middle;\n",
       "    }\n",
       "\n",
       "    .dataframe tbody tr th {\n",
       "        vertical-align: top;\n",
       "    }\n",
       "\n",
       "    .dataframe thead th {\n",
       "        text-align: right;\n",
       "    }\n",
       "</style>\n",
       "<table border=\"1\" class=\"dataframe\">\n",
       "  <thead>\n",
       "    <tr style=\"text-align: right;\">\n",
       "      <th></th>\n",
       "      <th>Date/Time</th>\n",
       "      <th>Temp_C</th>\n",
       "      <th>Dew Point Temp_C</th>\n",
       "      <th>Rel Hum_%</th>\n",
       "      <th>Wind Speed_km/h</th>\n",
       "      <th>Visibility_km</th>\n",
       "      <th>Press_kPa</th>\n",
       "      <th>Weather</th>\n",
       "    </tr>\n",
       "  </thead>\n",
       "  <tbody>\n",
       "    <tr>\n",
       "      <th>55</th>\n",
       "      <td>1/3/2012 7:00</td>\n",
       "      <td>-14.0</td>\n",
       "      <td>-19.5</td>\n",
       "      <td>63</td>\n",
       "      <td>19</td>\n",
       "      <td>25.0</td>\n",
       "      <td>100.95</td>\n",
       "      <td>Snow</td>\n",
       "    </tr>\n",
       "    <tr>\n",
       "      <th>84</th>\n",
       "      <td>1/4/2012 12:00</td>\n",
       "      <td>-13.7</td>\n",
       "      <td>-21.7</td>\n",
       "      <td>51</td>\n",
       "      <td>11</td>\n",
       "      <td>24.1</td>\n",
       "      <td>101.25</td>\n",
       "      <td>Snow</td>\n",
       "    </tr>\n",
       "    <tr>\n",
       "      <th>86</th>\n",
       "      <td>1/4/2012 14:00</td>\n",
       "      <td>-11.3</td>\n",
       "      <td>-19.0</td>\n",
       "      <td>53</td>\n",
       "      <td>7</td>\n",
       "      <td>19.3</td>\n",
       "      <td>100.97</td>\n",
       "      <td>Snow</td>\n",
       "    </tr>\n",
       "    <tr>\n",
       "      <th>87</th>\n",
       "      <td>1/4/2012 15:00</td>\n",
       "      <td>-10.2</td>\n",
       "      <td>-16.3</td>\n",
       "      <td>61</td>\n",
       "      <td>11</td>\n",
       "      <td>9.7</td>\n",
       "      <td>100.89</td>\n",
       "      <td>Snow</td>\n",
       "    </tr>\n",
       "    <tr>\n",
       "      <th>88</th>\n",
       "      <td>1/4/2012 16:00</td>\n",
       "      <td>-9.4</td>\n",
       "      <td>-15.5</td>\n",
       "      <td>61</td>\n",
       "      <td>13</td>\n",
       "      <td>19.3</td>\n",
       "      <td>100.79</td>\n",
       "      <td>Snow</td>\n",
       "    </tr>\n",
       "    <tr>\n",
       "      <th>...</th>\n",
       "      <td>...</td>\n",
       "      <td>...</td>\n",
       "      <td>...</td>\n",
       "      <td>...</td>\n",
       "      <td>...</td>\n",
       "      <td>...</td>\n",
       "      <td>...</td>\n",
       "      <td>...</td>\n",
       "    </tr>\n",
       "    <tr>\n",
       "      <th>8779</th>\n",
       "      <td>12/31/2012 19:00</td>\n",
       "      <td>0.1</td>\n",
       "      <td>-2.7</td>\n",
       "      <td>81</td>\n",
       "      <td>30</td>\n",
       "      <td>9.7</td>\n",
       "      <td>100.13</td>\n",
       "      <td>Snow</td>\n",
       "    </tr>\n",
       "    <tr>\n",
       "      <th>8780</th>\n",
       "      <td>12/31/2012 20:00</td>\n",
       "      <td>0.2</td>\n",
       "      <td>-2.4</td>\n",
       "      <td>83</td>\n",
       "      <td>24</td>\n",
       "      <td>9.7</td>\n",
       "      <td>100.03</td>\n",
       "      <td>Snow</td>\n",
       "    </tr>\n",
       "    <tr>\n",
       "      <th>8781</th>\n",
       "      <td>12/31/2012 21:00</td>\n",
       "      <td>-0.5</td>\n",
       "      <td>-1.5</td>\n",
       "      <td>93</td>\n",
       "      <td>28</td>\n",
       "      <td>4.8</td>\n",
       "      <td>99.95</td>\n",
       "      <td>Snow</td>\n",
       "    </tr>\n",
       "    <tr>\n",
       "      <th>8782</th>\n",
       "      <td>12/31/2012 22:00</td>\n",
       "      <td>-0.2</td>\n",
       "      <td>-1.8</td>\n",
       "      <td>89</td>\n",
       "      <td>28</td>\n",
       "      <td>9.7</td>\n",
       "      <td>99.91</td>\n",
       "      <td>Snow</td>\n",
       "    </tr>\n",
       "    <tr>\n",
       "      <th>8783</th>\n",
       "      <td>12/31/2012 23:00</td>\n",
       "      <td>0.0</td>\n",
       "      <td>-2.1</td>\n",
       "      <td>86</td>\n",
       "      <td>30</td>\n",
       "      <td>11.3</td>\n",
       "      <td>99.89</td>\n",
       "      <td>Snow</td>\n",
       "    </tr>\n",
       "  </tbody>\n",
       "</table>\n",
       "<p>390 rows × 8 columns</p>\n",
       "</div>"
      ],
      "text/plain": [
       "             Date/Time  Temp_C  Dew Point Temp_C  Rel Hum_%  Wind Speed_km/h  \\\n",
       "55       1/3/2012 7:00   -14.0             -19.5         63               19   \n",
       "84      1/4/2012 12:00   -13.7             -21.7         51               11   \n",
       "86      1/4/2012 14:00   -11.3             -19.0         53                7   \n",
       "87      1/4/2012 15:00   -10.2             -16.3         61               11   \n",
       "88      1/4/2012 16:00    -9.4             -15.5         61               13   \n",
       "...                ...     ...               ...        ...              ...   \n",
       "8779  12/31/2012 19:00     0.1              -2.7         81               30   \n",
       "8780  12/31/2012 20:00     0.2              -2.4         83               24   \n",
       "8781  12/31/2012 21:00    -0.5              -1.5         93               28   \n",
       "8782  12/31/2012 22:00    -0.2              -1.8         89               28   \n",
       "8783  12/31/2012 23:00     0.0              -2.1         86               30   \n",
       "\n",
       "      Visibility_km  Press_kPa Weather  \n",
       "55             25.0     100.95    Snow  \n",
       "84             24.1     101.25    Snow  \n",
       "86             19.3     100.97    Snow  \n",
       "87              9.7     100.89    Snow  \n",
       "88             19.3     100.79    Snow  \n",
       "...             ...        ...     ...  \n",
       "8779            9.7     100.13    Snow  \n",
       "8780            9.7     100.03    Snow  \n",
       "8781            4.8      99.95    Snow  \n",
       "8782            9.7      99.91    Snow  \n",
       "8783           11.3      99.89    Snow  \n",
       "\n",
       "[390 rows x 8 columns]"
      ]
     },
     "execution_count": 8,
     "metadata": {},
     "output_type": "execute_result"
    }
   ],
   "source": [
    "data[data['Weather']=='Snow']"
   ]
  },
  {
   "cell_type": "code",
   "execution_count": 12,
   "id": "87a9faf0",
   "metadata": {},
   "outputs": [
    {
     "data": {
      "text/html": [
       "<div>\n",
       "<style scoped>\n",
       "    .dataframe tbody tr th:only-of-type {\n",
       "        vertical-align: middle;\n",
       "    }\n",
       "\n",
       "    .dataframe tbody tr th {\n",
       "        vertical-align: top;\n",
       "    }\n",
       "\n",
       "    .dataframe thead th {\n",
       "        text-align: right;\n",
       "    }\n",
       "</style>\n",
       "<table border=\"1\" class=\"dataframe\">\n",
       "  <thead>\n",
       "    <tr style=\"text-align: right;\">\n",
       "      <th></th>\n",
       "      <th>Date/Time</th>\n",
       "      <th>Temp_C</th>\n",
       "      <th>Dew Point Temp_C</th>\n",
       "      <th>Rel Hum_%</th>\n",
       "      <th>Wind Speed_km/h</th>\n",
       "      <th>Visibility_km</th>\n",
       "      <th>Press_kPa</th>\n",
       "      <th>Weather</th>\n",
       "    </tr>\n",
       "  </thead>\n",
       "  <tbody>\n",
       "    <tr>\n",
       "      <th>8774</th>\n",
       "      <td>12/31/2012 14:00</td>\n",
       "      <td>-3.4</td>\n",
       "      <td>-5.7</td>\n",
       "      <td>84</td>\n",
       "      <td>6</td>\n",
       "      <td>11.3</td>\n",
       "      <td>100.57</td>\n",
       "      <td>Snow</td>\n",
       "    </tr>\n",
       "    <tr>\n",
       "      <th>8775</th>\n",
       "      <td>12/31/2012 15:00</td>\n",
       "      <td>-2.3</td>\n",
       "      <td>-4.6</td>\n",
       "      <td>84</td>\n",
       "      <td>9</td>\n",
       "      <td>9.7</td>\n",
       "      <td>100.47</td>\n",
       "      <td>Snow</td>\n",
       "    </tr>\n",
       "    <tr>\n",
       "      <th>8776</th>\n",
       "      <td>12/31/2012 16:00</td>\n",
       "      <td>-1.4</td>\n",
       "      <td>-4.0</td>\n",
       "      <td>82</td>\n",
       "      <td>13</td>\n",
       "      <td>12.9</td>\n",
       "      <td>100.40</td>\n",
       "      <td>Snow</td>\n",
       "    </tr>\n",
       "    <tr>\n",
       "      <th>8777</th>\n",
       "      <td>12/31/2012 17:00</td>\n",
       "      <td>-1.1</td>\n",
       "      <td>-3.3</td>\n",
       "      <td>85</td>\n",
       "      <td>19</td>\n",
       "      <td>9.7</td>\n",
       "      <td>100.30</td>\n",
       "      <td>Snow</td>\n",
       "    </tr>\n",
       "    <tr>\n",
       "      <th>8778</th>\n",
       "      <td>12/31/2012 18:00</td>\n",
       "      <td>-1.3</td>\n",
       "      <td>-3.1</td>\n",
       "      <td>88</td>\n",
       "      <td>17</td>\n",
       "      <td>9.7</td>\n",
       "      <td>100.19</td>\n",
       "      <td>Snow</td>\n",
       "    </tr>\n",
       "    <tr>\n",
       "      <th>8779</th>\n",
       "      <td>12/31/2012 19:00</td>\n",
       "      <td>0.1</td>\n",
       "      <td>-2.7</td>\n",
       "      <td>81</td>\n",
       "      <td>30</td>\n",
       "      <td>9.7</td>\n",
       "      <td>100.13</td>\n",
       "      <td>Snow</td>\n",
       "    </tr>\n",
       "    <tr>\n",
       "      <th>8780</th>\n",
       "      <td>12/31/2012 20:00</td>\n",
       "      <td>0.2</td>\n",
       "      <td>-2.4</td>\n",
       "      <td>83</td>\n",
       "      <td>24</td>\n",
       "      <td>9.7</td>\n",
       "      <td>100.03</td>\n",
       "      <td>Snow</td>\n",
       "    </tr>\n",
       "    <tr>\n",
       "      <th>8781</th>\n",
       "      <td>12/31/2012 21:00</td>\n",
       "      <td>-0.5</td>\n",
       "      <td>-1.5</td>\n",
       "      <td>93</td>\n",
       "      <td>28</td>\n",
       "      <td>4.8</td>\n",
       "      <td>99.95</td>\n",
       "      <td>Snow</td>\n",
       "    </tr>\n",
       "    <tr>\n",
       "      <th>8782</th>\n",
       "      <td>12/31/2012 22:00</td>\n",
       "      <td>-0.2</td>\n",
       "      <td>-1.8</td>\n",
       "      <td>89</td>\n",
       "      <td>28</td>\n",
       "      <td>9.7</td>\n",
       "      <td>99.91</td>\n",
       "      <td>Snow</td>\n",
       "    </tr>\n",
       "    <tr>\n",
       "      <th>8783</th>\n",
       "      <td>12/31/2012 23:00</td>\n",
       "      <td>0.0</td>\n",
       "      <td>-2.1</td>\n",
       "      <td>86</td>\n",
       "      <td>30</td>\n",
       "      <td>11.3</td>\n",
       "      <td>99.89</td>\n",
       "      <td>Snow</td>\n",
       "    </tr>\n",
       "  </tbody>\n",
       "</table>\n",
       "</div>"
      ],
      "text/plain": [
       "             Date/Time  Temp_C  Dew Point Temp_C  Rel Hum_%  Wind Speed_km/h  \\\n",
       "8774  12/31/2012 14:00    -3.4              -5.7         84                6   \n",
       "8775  12/31/2012 15:00    -2.3              -4.6         84                9   \n",
       "8776  12/31/2012 16:00    -1.4              -4.0         82               13   \n",
       "8777  12/31/2012 17:00    -1.1              -3.3         85               19   \n",
       "8778  12/31/2012 18:00    -1.3              -3.1         88               17   \n",
       "8779  12/31/2012 19:00     0.1              -2.7         81               30   \n",
       "8780  12/31/2012 20:00     0.2              -2.4         83               24   \n",
       "8781  12/31/2012 21:00    -0.5              -1.5         93               28   \n",
       "8782  12/31/2012 22:00    -0.2              -1.8         89               28   \n",
       "8783  12/31/2012 23:00     0.0              -2.1         86               30   \n",
       "\n",
       "      Visibility_km  Press_kPa Weather  \n",
       "8774           11.3     100.57    Snow  \n",
       "8775            9.7     100.47    Snow  \n",
       "8776           12.9     100.40    Snow  \n",
       "8777            9.7     100.30    Snow  \n",
       "8778            9.7     100.19    Snow  \n",
       "8779            9.7     100.13    Snow  \n",
       "8780            9.7     100.03    Snow  \n",
       "8781            4.8      99.95    Snow  \n",
       "8782            9.7      99.91    Snow  \n",
       "8783           11.3      99.89    Snow  "
      ]
     },
     "execution_count": 12,
     "metadata": {},
     "output_type": "execute_result"
    }
   ],
   "source": [
    "data[data['Weather'].str.contains('Snow')]"
   ]
  },
  {
   "cell_type": "markdown",
   "id": "6f843be5",
   "metadata": {},
   "source": [
    "# Mean value of each column against each weather condition"
   ]
  },
  {
   "cell_type": "code",
   "execution_count": 13,
   "id": "8163fbfd",
   "metadata": {
    "collapsed": true
   },
   "outputs": [
    {
     "data": {
      "text/html": [
       "<div>\n",
       "<style scoped>\n",
       "    .dataframe tbody tr th:only-of-type {\n",
       "        vertical-align: middle;\n",
       "    }\n",
       "\n",
       "    .dataframe tbody tr th {\n",
       "        vertical-align: top;\n",
       "    }\n",
       "\n",
       "    .dataframe thead th {\n",
       "        text-align: right;\n",
       "    }\n",
       "</style>\n",
       "<table border=\"1\" class=\"dataframe\">\n",
       "  <thead>\n",
       "    <tr style=\"text-align: right;\">\n",
       "      <th></th>\n",
       "      <th>Temp_C</th>\n",
       "      <th>Dew Point Temp_C</th>\n",
       "      <th>Rel Hum_%</th>\n",
       "      <th>Wind Speed_km/h</th>\n",
       "      <th>Visibility_km</th>\n",
       "      <th>Press_kPa</th>\n",
       "    </tr>\n",
       "    <tr>\n",
       "      <th>Weather</th>\n",
       "      <th></th>\n",
       "      <th></th>\n",
       "      <th></th>\n",
       "      <th></th>\n",
       "      <th></th>\n",
       "      <th></th>\n",
       "    </tr>\n",
       "  </thead>\n",
       "  <tbody>\n",
       "    <tr>\n",
       "      <th>Clear</th>\n",
       "      <td>6.825716</td>\n",
       "      <td>0.089367</td>\n",
       "      <td>64.497738</td>\n",
       "      <td>10.557315</td>\n",
       "      <td>30.153243</td>\n",
       "      <td>101.587443</td>\n",
       "    </tr>\n",
       "    <tr>\n",
       "      <th>Cloudy</th>\n",
       "      <td>7.970544</td>\n",
       "      <td>2.375810</td>\n",
       "      <td>69.592593</td>\n",
       "      <td>16.127315</td>\n",
       "      <td>26.625752</td>\n",
       "      <td>100.911441</td>\n",
       "    </tr>\n",
       "    <tr>\n",
       "      <th>Drizzle</th>\n",
       "      <td>7.353659</td>\n",
       "      <td>5.504878</td>\n",
       "      <td>88.243902</td>\n",
       "      <td>16.097561</td>\n",
       "      <td>17.931707</td>\n",
       "      <td>100.435366</td>\n",
       "    </tr>\n",
       "    <tr>\n",
       "      <th>Drizzle,Fog</th>\n",
       "      <td>8.067500</td>\n",
       "      <td>7.033750</td>\n",
       "      <td>93.275000</td>\n",
       "      <td>11.862500</td>\n",
       "      <td>5.257500</td>\n",
       "      <td>100.786625</td>\n",
       "    </tr>\n",
       "    <tr>\n",
       "      <th>Drizzle,Ice Pellets,Fog</th>\n",
       "      <td>0.400000</td>\n",
       "      <td>-0.700000</td>\n",
       "      <td>92.000000</td>\n",
       "      <td>20.000000</td>\n",
       "      <td>4.000000</td>\n",
       "      <td>100.790000</td>\n",
       "    </tr>\n",
       "    <tr>\n",
       "      <th>Drizzle,Snow</th>\n",
       "      <td>1.050000</td>\n",
       "      <td>0.150000</td>\n",
       "      <td>93.500000</td>\n",
       "      <td>14.000000</td>\n",
       "      <td>10.500000</td>\n",
       "      <td>100.890000</td>\n",
       "    </tr>\n",
       "    <tr>\n",
       "      <th>Drizzle,Snow,Fog</th>\n",
       "      <td>0.693333</td>\n",
       "      <td>0.120000</td>\n",
       "      <td>95.866667</td>\n",
       "      <td>15.533333</td>\n",
       "      <td>5.513333</td>\n",
       "      <td>99.281333</td>\n",
       "    </tr>\n",
       "    <tr>\n",
       "      <th>Fog</th>\n",
       "      <td>4.303333</td>\n",
       "      <td>3.159333</td>\n",
       "      <td>92.286667</td>\n",
       "      <td>7.946667</td>\n",
       "      <td>6.248000</td>\n",
       "      <td>101.184067</td>\n",
       "    </tr>\n",
       "    <tr>\n",
       "      <th>Freezing Drizzle</th>\n",
       "      <td>-5.657143</td>\n",
       "      <td>-8.000000</td>\n",
       "      <td>83.571429</td>\n",
       "      <td>16.571429</td>\n",
       "      <td>9.200000</td>\n",
       "      <td>100.202857</td>\n",
       "    </tr>\n",
       "    <tr>\n",
       "      <th>Freezing Drizzle,Fog</th>\n",
       "      <td>-2.533333</td>\n",
       "      <td>-4.183333</td>\n",
       "      <td>88.500000</td>\n",
       "      <td>17.000000</td>\n",
       "      <td>5.266667</td>\n",
       "      <td>100.441667</td>\n",
       "    </tr>\n",
       "    <tr>\n",
       "      <th>Freezing Drizzle,Haze</th>\n",
       "      <td>-5.433333</td>\n",
       "      <td>-8.000000</td>\n",
       "      <td>82.000000</td>\n",
       "      <td>10.333333</td>\n",
       "      <td>2.666667</td>\n",
       "      <td>100.316667</td>\n",
       "    </tr>\n",
       "    <tr>\n",
       "      <th>Freezing Drizzle,Snow</th>\n",
       "      <td>-5.109091</td>\n",
       "      <td>-7.072727</td>\n",
       "      <td>86.090909</td>\n",
       "      <td>16.272727</td>\n",
       "      <td>5.872727</td>\n",
       "      <td>100.520909</td>\n",
       "    </tr>\n",
       "    <tr>\n",
       "      <th>Freezing Fog</th>\n",
       "      <td>-7.575000</td>\n",
       "      <td>-9.250000</td>\n",
       "      <td>87.750000</td>\n",
       "      <td>4.750000</td>\n",
       "      <td>0.650000</td>\n",
       "      <td>102.320000</td>\n",
       "    </tr>\n",
       "    <tr>\n",
       "      <th>Freezing Rain</th>\n",
       "      <td>-3.885714</td>\n",
       "      <td>-6.078571</td>\n",
       "      <td>84.642857</td>\n",
       "      <td>19.214286</td>\n",
       "      <td>8.242857</td>\n",
       "      <td>99.647143</td>\n",
       "    </tr>\n",
       "    <tr>\n",
       "      <th>Freezing Rain,Fog</th>\n",
       "      <td>-2.225000</td>\n",
       "      <td>-3.750000</td>\n",
       "      <td>89.500000</td>\n",
       "      <td>15.500000</td>\n",
       "      <td>7.550000</td>\n",
       "      <td>99.945000</td>\n",
       "    </tr>\n",
       "    <tr>\n",
       "      <th>Freezing Rain,Haze</th>\n",
       "      <td>-4.900000</td>\n",
       "      <td>-7.450000</td>\n",
       "      <td>82.500000</td>\n",
       "      <td>7.500000</td>\n",
       "      <td>2.400000</td>\n",
       "      <td>100.375000</td>\n",
       "    </tr>\n",
       "    <tr>\n",
       "      <th>Freezing Rain,Ice Pellets,Fog</th>\n",
       "      <td>-2.600000</td>\n",
       "      <td>-3.700000</td>\n",
       "      <td>92.000000</td>\n",
       "      <td>28.000000</td>\n",
       "      <td>8.000000</td>\n",
       "      <td>100.950000</td>\n",
       "    </tr>\n",
       "    <tr>\n",
       "      <th>Freezing Rain,Snow Grains</th>\n",
       "      <td>-5.000000</td>\n",
       "      <td>-7.300000</td>\n",
       "      <td>84.000000</td>\n",
       "      <td>32.000000</td>\n",
       "      <td>4.800000</td>\n",
       "      <td>98.560000</td>\n",
       "    </tr>\n",
       "    <tr>\n",
       "      <th>Haze</th>\n",
       "      <td>-0.200000</td>\n",
       "      <td>-2.975000</td>\n",
       "      <td>81.625000</td>\n",
       "      <td>10.437500</td>\n",
       "      <td>7.831250</td>\n",
       "      <td>101.482500</td>\n",
       "    </tr>\n",
       "    <tr>\n",
       "      <th>Mainly Clear</th>\n",
       "      <td>12.558927</td>\n",
       "      <td>4.581671</td>\n",
       "      <td>60.667142</td>\n",
       "      <td>14.144824</td>\n",
       "      <td>34.264862</td>\n",
       "      <td>101.248832</td>\n",
       "    </tr>\n",
       "    <tr>\n",
       "      <th>Moderate Rain,Fog</th>\n",
       "      <td>1.700000</td>\n",
       "      <td>0.800000</td>\n",
       "      <td>94.000000</td>\n",
       "      <td>17.000000</td>\n",
       "      <td>6.400000</td>\n",
       "      <td>99.980000</td>\n",
       "    </tr>\n",
       "    <tr>\n",
       "      <th>Moderate Snow</th>\n",
       "      <td>-5.525000</td>\n",
       "      <td>-7.250000</td>\n",
       "      <td>87.750000</td>\n",
       "      <td>33.750000</td>\n",
       "      <td>0.750000</td>\n",
       "      <td>100.275000</td>\n",
       "    </tr>\n",
       "    <tr>\n",
       "      <th>Moderate Snow,Blowing Snow</th>\n",
       "      <td>-5.450000</td>\n",
       "      <td>-6.500000</td>\n",
       "      <td>92.500000</td>\n",
       "      <td>40.000000</td>\n",
       "      <td>0.600000</td>\n",
       "      <td>100.570000</td>\n",
       "    </tr>\n",
       "    <tr>\n",
       "      <th>Mostly Cloudy</th>\n",
       "      <td>10.574287</td>\n",
       "      <td>3.131174</td>\n",
       "      <td>62.102465</td>\n",
       "      <td>15.813920</td>\n",
       "      <td>31.253842</td>\n",
       "      <td>101.025288</td>\n",
       "    </tr>\n",
       "    <tr>\n",
       "      <th>Rain</th>\n",
       "      <td>9.786275</td>\n",
       "      <td>7.042810</td>\n",
       "      <td>83.624183</td>\n",
       "      <td>19.254902</td>\n",
       "      <td>18.856536</td>\n",
       "      <td>100.233333</td>\n",
       "    </tr>\n",
       "    <tr>\n",
       "      <th>Rain Showers</th>\n",
       "      <td>13.722340</td>\n",
       "      <td>9.187766</td>\n",
       "      <td>75.159574</td>\n",
       "      <td>17.132979</td>\n",
       "      <td>22.816489</td>\n",
       "      <td>100.404043</td>\n",
       "    </tr>\n",
       "    <tr>\n",
       "      <th>Rain Showers,Fog</th>\n",
       "      <td>12.800000</td>\n",
       "      <td>12.100000</td>\n",
       "      <td>96.000000</td>\n",
       "      <td>13.000000</td>\n",
       "      <td>6.400000</td>\n",
       "      <td>99.830000</td>\n",
       "    </tr>\n",
       "    <tr>\n",
       "      <th>Rain Showers,Snow Showers</th>\n",
       "      <td>2.150000</td>\n",
       "      <td>-1.500000</td>\n",
       "      <td>76.500000</td>\n",
       "      <td>22.500000</td>\n",
       "      <td>21.700000</td>\n",
       "      <td>101.100000</td>\n",
       "    </tr>\n",
       "    <tr>\n",
       "      <th>Rain,Fog</th>\n",
       "      <td>8.273276</td>\n",
       "      <td>7.219828</td>\n",
       "      <td>93.189655</td>\n",
       "      <td>14.793103</td>\n",
       "      <td>6.873276</td>\n",
       "      <td>100.500862</td>\n",
       "    </tr>\n",
       "    <tr>\n",
       "      <th>Rain,Haze</th>\n",
       "      <td>4.633333</td>\n",
       "      <td>2.066667</td>\n",
       "      <td>83.333333</td>\n",
       "      <td>11.666667</td>\n",
       "      <td>6.700000</td>\n",
       "      <td>100.540000</td>\n",
       "    </tr>\n",
       "    <tr>\n",
       "      <th>Rain,Ice Pellets</th>\n",
       "      <td>0.600000</td>\n",
       "      <td>-0.600000</td>\n",
       "      <td>92.000000</td>\n",
       "      <td>24.000000</td>\n",
       "      <td>9.700000</td>\n",
       "      <td>100.120000</td>\n",
       "    </tr>\n",
       "    <tr>\n",
       "      <th>Rain,Snow</th>\n",
       "      <td>1.055556</td>\n",
       "      <td>-0.566667</td>\n",
       "      <td>89.000000</td>\n",
       "      <td>28.388889</td>\n",
       "      <td>11.672222</td>\n",
       "      <td>99.951111</td>\n",
       "    </tr>\n",
       "    <tr>\n",
       "      <th>Rain,Snow Grains</th>\n",
       "      <td>1.900000</td>\n",
       "      <td>-2.100000</td>\n",
       "      <td>75.000000</td>\n",
       "      <td>26.000000</td>\n",
       "      <td>25.000000</td>\n",
       "      <td>100.600000</td>\n",
       "    </tr>\n",
       "    <tr>\n",
       "      <th>Rain,Snow,Fog</th>\n",
       "      <td>0.800000</td>\n",
       "      <td>0.300000</td>\n",
       "      <td>96.000000</td>\n",
       "      <td>9.000000</td>\n",
       "      <td>6.400000</td>\n",
       "      <td>100.730000</td>\n",
       "    </tr>\n",
       "    <tr>\n",
       "      <th>Rain,Snow,Ice Pellets</th>\n",
       "      <td>1.100000</td>\n",
       "      <td>-0.175000</td>\n",
       "      <td>91.500000</td>\n",
       "      <td>23.250000</td>\n",
       "      <td>6.000000</td>\n",
       "      <td>100.105000</td>\n",
       "    </tr>\n",
       "    <tr>\n",
       "      <th>Snow</th>\n",
       "      <td>-4.524103</td>\n",
       "      <td>-7.623333</td>\n",
       "      <td>79.307692</td>\n",
       "      <td>20.038462</td>\n",
       "      <td>11.171795</td>\n",
       "      <td>100.536103</td>\n",
       "    </tr>\n",
       "    <tr>\n",
       "      <th>Snow Pellets</th>\n",
       "      <td>0.700000</td>\n",
       "      <td>-6.400000</td>\n",
       "      <td>59.000000</td>\n",
       "      <td>35.000000</td>\n",
       "      <td>2.400000</td>\n",
       "      <td>99.700000</td>\n",
       "    </tr>\n",
       "    <tr>\n",
       "      <th>Snow Showers</th>\n",
       "      <td>-3.506667</td>\n",
       "      <td>-7.866667</td>\n",
       "      <td>72.350000</td>\n",
       "      <td>19.233333</td>\n",
       "      <td>20.158333</td>\n",
       "      <td>100.963500</td>\n",
       "    </tr>\n",
       "    <tr>\n",
       "      <th>Snow Showers,Fog</th>\n",
       "      <td>-10.675000</td>\n",
       "      <td>-11.900000</td>\n",
       "      <td>90.750000</td>\n",
       "      <td>13.750000</td>\n",
       "      <td>7.025000</td>\n",
       "      <td>101.292500</td>\n",
       "    </tr>\n",
       "    <tr>\n",
       "      <th>Snow,Blowing Snow</th>\n",
       "      <td>-5.410526</td>\n",
       "      <td>-7.621053</td>\n",
       "      <td>84.473684</td>\n",
       "      <td>34.842105</td>\n",
       "      <td>4.105263</td>\n",
       "      <td>99.704737</td>\n",
       "    </tr>\n",
       "    <tr>\n",
       "      <th>Snow,Fog</th>\n",
       "      <td>-5.075676</td>\n",
       "      <td>-6.364865</td>\n",
       "      <td>90.675676</td>\n",
       "      <td>17.324324</td>\n",
       "      <td>4.537838</td>\n",
       "      <td>100.688649</td>\n",
       "    </tr>\n",
       "    <tr>\n",
       "      <th>Snow,Haze</th>\n",
       "      <td>-4.020000</td>\n",
       "      <td>-6.860000</td>\n",
       "      <td>80.600000</td>\n",
       "      <td>5.000000</td>\n",
       "      <td>4.640000</td>\n",
       "      <td>100.782000</td>\n",
       "    </tr>\n",
       "    <tr>\n",
       "      <th>Snow,Ice Pellets</th>\n",
       "      <td>-1.883333</td>\n",
       "      <td>-3.666667</td>\n",
       "      <td>87.666667</td>\n",
       "      <td>23.833333</td>\n",
       "      <td>7.416667</td>\n",
       "      <td>100.548333</td>\n",
       "    </tr>\n",
       "    <tr>\n",
       "      <th>Thunderstorms</th>\n",
       "      <td>24.150000</td>\n",
       "      <td>19.750000</td>\n",
       "      <td>77.000000</td>\n",
       "      <td>7.500000</td>\n",
       "      <td>24.550000</td>\n",
       "      <td>100.230000</td>\n",
       "    </tr>\n",
       "    <tr>\n",
       "      <th>Thunderstorms,Heavy Rain Showers</th>\n",
       "      <td>10.900000</td>\n",
       "      <td>9.000000</td>\n",
       "      <td>88.000000</td>\n",
       "      <td>9.000000</td>\n",
       "      <td>2.400000</td>\n",
       "      <td>100.260000</td>\n",
       "    </tr>\n",
       "    <tr>\n",
       "      <th>Thunderstorms,Moderate Rain Showers,Fog</th>\n",
       "      <td>19.600000</td>\n",
       "      <td>18.500000</td>\n",
       "      <td>93.000000</td>\n",
       "      <td>15.000000</td>\n",
       "      <td>3.200000</td>\n",
       "      <td>100.010000</td>\n",
       "    </tr>\n",
       "    <tr>\n",
       "      <th>Thunderstorms,Rain</th>\n",
       "      <td>20.433333</td>\n",
       "      <td>18.533333</td>\n",
       "      <td>89.000000</td>\n",
       "      <td>15.666667</td>\n",
       "      <td>19.833333</td>\n",
       "      <td>100.420000</td>\n",
       "    </tr>\n",
       "    <tr>\n",
       "      <th>Thunderstorms,Rain Showers</th>\n",
       "      <td>20.037500</td>\n",
       "      <td>17.618750</td>\n",
       "      <td>86.375000</td>\n",
       "      <td>18.312500</td>\n",
       "      <td>15.893750</td>\n",
       "      <td>100.233750</td>\n",
       "    </tr>\n",
       "    <tr>\n",
       "      <th>Thunderstorms,Rain Showers,Fog</th>\n",
       "      <td>21.600000</td>\n",
       "      <td>18.700000</td>\n",
       "      <td>84.000000</td>\n",
       "      <td>19.666667</td>\n",
       "      <td>9.700000</td>\n",
       "      <td>100.063333</td>\n",
       "    </tr>\n",
       "    <tr>\n",
       "      <th>Thunderstorms,Rain,Fog</th>\n",
       "      <td>20.600000</td>\n",
       "      <td>18.600000</td>\n",
       "      <td>88.000000</td>\n",
       "      <td>19.000000</td>\n",
       "      <td>4.800000</td>\n",
       "      <td>100.080000</td>\n",
       "    </tr>\n",
       "  </tbody>\n",
       "</table>\n",
       "</div>"
      ],
      "text/plain": [
       "                                            Temp_C  Dew Point Temp_C  \\\n",
       "Weather                                                                \n",
       "Clear                                     6.825716          0.089367   \n",
       "Cloudy                                    7.970544          2.375810   \n",
       "Drizzle                                   7.353659          5.504878   \n",
       "Drizzle,Fog                               8.067500          7.033750   \n",
       "Drizzle,Ice Pellets,Fog                   0.400000         -0.700000   \n",
       "Drizzle,Snow                              1.050000          0.150000   \n",
       "Drizzle,Snow,Fog                          0.693333          0.120000   \n",
       "Fog                                       4.303333          3.159333   \n",
       "Freezing Drizzle                         -5.657143         -8.000000   \n",
       "Freezing Drizzle,Fog                     -2.533333         -4.183333   \n",
       "Freezing Drizzle,Haze                    -5.433333         -8.000000   \n",
       "Freezing Drizzle,Snow                    -5.109091         -7.072727   \n",
       "Freezing Fog                             -7.575000         -9.250000   \n",
       "Freezing Rain                            -3.885714         -6.078571   \n",
       "Freezing Rain,Fog                        -2.225000         -3.750000   \n",
       "Freezing Rain,Haze                       -4.900000         -7.450000   \n",
       "Freezing Rain,Ice Pellets,Fog            -2.600000         -3.700000   \n",
       "Freezing Rain,Snow Grains                -5.000000         -7.300000   \n",
       "Haze                                     -0.200000         -2.975000   \n",
       "Mainly Clear                             12.558927          4.581671   \n",
       "Moderate Rain,Fog                         1.700000          0.800000   \n",
       "Moderate Snow                            -5.525000         -7.250000   \n",
       "Moderate Snow,Blowing Snow               -5.450000         -6.500000   \n",
       "Mostly Cloudy                            10.574287          3.131174   \n",
       "Rain                                      9.786275          7.042810   \n",
       "Rain Showers                             13.722340          9.187766   \n",
       "Rain Showers,Fog                         12.800000         12.100000   \n",
       "Rain Showers,Snow Showers                 2.150000         -1.500000   \n",
       "Rain,Fog                                  8.273276          7.219828   \n",
       "Rain,Haze                                 4.633333          2.066667   \n",
       "Rain,Ice Pellets                          0.600000         -0.600000   \n",
       "Rain,Snow                                 1.055556         -0.566667   \n",
       "Rain,Snow Grains                          1.900000         -2.100000   \n",
       "Rain,Snow,Fog                             0.800000          0.300000   \n",
       "Rain,Snow,Ice Pellets                     1.100000         -0.175000   \n",
       "Snow                                     -4.524103         -7.623333   \n",
       "Snow Pellets                              0.700000         -6.400000   \n",
       "Snow Showers                             -3.506667         -7.866667   \n",
       "Snow Showers,Fog                        -10.675000        -11.900000   \n",
       "Snow,Blowing Snow                        -5.410526         -7.621053   \n",
       "Snow,Fog                                 -5.075676         -6.364865   \n",
       "Snow,Haze                                -4.020000         -6.860000   \n",
       "Snow,Ice Pellets                         -1.883333         -3.666667   \n",
       "Thunderstorms                            24.150000         19.750000   \n",
       "Thunderstorms,Heavy Rain Showers         10.900000          9.000000   \n",
       "Thunderstorms,Moderate Rain Showers,Fog  19.600000         18.500000   \n",
       "Thunderstorms,Rain                       20.433333         18.533333   \n",
       "Thunderstorms,Rain Showers               20.037500         17.618750   \n",
       "Thunderstorms,Rain Showers,Fog           21.600000         18.700000   \n",
       "Thunderstorms,Rain,Fog                   20.600000         18.600000   \n",
       "\n",
       "                                         Rel Hum_%  Wind Speed_km/h  \\\n",
       "Weather                                                               \n",
       "Clear                                    64.497738        10.557315   \n",
       "Cloudy                                   69.592593        16.127315   \n",
       "Drizzle                                  88.243902        16.097561   \n",
       "Drizzle,Fog                              93.275000        11.862500   \n",
       "Drizzle,Ice Pellets,Fog                  92.000000        20.000000   \n",
       "Drizzle,Snow                             93.500000        14.000000   \n",
       "Drizzle,Snow,Fog                         95.866667        15.533333   \n",
       "Fog                                      92.286667         7.946667   \n",
       "Freezing Drizzle                         83.571429        16.571429   \n",
       "Freezing Drizzle,Fog                     88.500000        17.000000   \n",
       "Freezing Drizzle,Haze                    82.000000        10.333333   \n",
       "Freezing Drizzle,Snow                    86.090909        16.272727   \n",
       "Freezing Fog                             87.750000         4.750000   \n",
       "Freezing Rain                            84.642857        19.214286   \n",
       "Freezing Rain,Fog                        89.500000        15.500000   \n",
       "Freezing Rain,Haze                       82.500000         7.500000   \n",
       "Freezing Rain,Ice Pellets,Fog            92.000000        28.000000   \n",
       "Freezing Rain,Snow Grains                84.000000        32.000000   \n",
       "Haze                                     81.625000        10.437500   \n",
       "Mainly Clear                             60.667142        14.144824   \n",
       "Moderate Rain,Fog                        94.000000        17.000000   \n",
       "Moderate Snow                            87.750000        33.750000   \n",
       "Moderate Snow,Blowing Snow               92.500000        40.000000   \n",
       "Mostly Cloudy                            62.102465        15.813920   \n",
       "Rain                                     83.624183        19.254902   \n",
       "Rain Showers                             75.159574        17.132979   \n",
       "Rain Showers,Fog                         96.000000        13.000000   \n",
       "Rain Showers,Snow Showers                76.500000        22.500000   \n",
       "Rain,Fog                                 93.189655        14.793103   \n",
       "Rain,Haze                                83.333333        11.666667   \n",
       "Rain,Ice Pellets                         92.000000        24.000000   \n",
       "Rain,Snow                                89.000000        28.388889   \n",
       "Rain,Snow Grains                         75.000000        26.000000   \n",
       "Rain,Snow,Fog                            96.000000         9.000000   \n",
       "Rain,Snow,Ice Pellets                    91.500000        23.250000   \n",
       "Snow                                     79.307692        20.038462   \n",
       "Snow Pellets                             59.000000        35.000000   \n",
       "Snow Showers                             72.350000        19.233333   \n",
       "Snow Showers,Fog                         90.750000        13.750000   \n",
       "Snow,Blowing Snow                        84.473684        34.842105   \n",
       "Snow,Fog                                 90.675676        17.324324   \n",
       "Snow,Haze                                80.600000         5.000000   \n",
       "Snow,Ice Pellets                         87.666667        23.833333   \n",
       "Thunderstorms                            77.000000         7.500000   \n",
       "Thunderstorms,Heavy Rain Showers         88.000000         9.000000   \n",
       "Thunderstorms,Moderate Rain Showers,Fog  93.000000        15.000000   \n",
       "Thunderstorms,Rain                       89.000000        15.666667   \n",
       "Thunderstorms,Rain Showers               86.375000        18.312500   \n",
       "Thunderstorms,Rain Showers,Fog           84.000000        19.666667   \n",
       "Thunderstorms,Rain,Fog                   88.000000        19.000000   \n",
       "\n",
       "                                         Visibility_km   Press_kPa  \n",
       "Weather                                                             \n",
       "Clear                                        30.153243  101.587443  \n",
       "Cloudy                                       26.625752  100.911441  \n",
       "Drizzle                                      17.931707  100.435366  \n",
       "Drizzle,Fog                                   5.257500  100.786625  \n",
       "Drizzle,Ice Pellets,Fog                       4.000000  100.790000  \n",
       "Drizzle,Snow                                 10.500000  100.890000  \n",
       "Drizzle,Snow,Fog                              5.513333   99.281333  \n",
       "Fog                                           6.248000  101.184067  \n",
       "Freezing Drizzle                              9.200000  100.202857  \n",
       "Freezing Drizzle,Fog                          5.266667  100.441667  \n",
       "Freezing Drizzle,Haze                         2.666667  100.316667  \n",
       "Freezing Drizzle,Snow                         5.872727  100.520909  \n",
       "Freezing Fog                                  0.650000  102.320000  \n",
       "Freezing Rain                                 8.242857   99.647143  \n",
       "Freezing Rain,Fog                             7.550000   99.945000  \n",
       "Freezing Rain,Haze                            2.400000  100.375000  \n",
       "Freezing Rain,Ice Pellets,Fog                 8.000000  100.950000  \n",
       "Freezing Rain,Snow Grains                     4.800000   98.560000  \n",
       "Haze                                          7.831250  101.482500  \n",
       "Mainly Clear                                 34.264862  101.248832  \n",
       "Moderate Rain,Fog                             6.400000   99.980000  \n",
       "Moderate Snow                                 0.750000  100.275000  \n",
       "Moderate Snow,Blowing Snow                    0.600000  100.570000  \n",
       "Mostly Cloudy                                31.253842  101.025288  \n",
       "Rain                                         18.856536  100.233333  \n",
       "Rain Showers                                 22.816489  100.404043  \n",
       "Rain Showers,Fog                              6.400000   99.830000  \n",
       "Rain Showers,Snow Showers                    21.700000  101.100000  \n",
       "Rain,Fog                                      6.873276  100.500862  \n",
       "Rain,Haze                                     6.700000  100.540000  \n",
       "Rain,Ice Pellets                              9.700000  100.120000  \n",
       "Rain,Snow                                    11.672222   99.951111  \n",
       "Rain,Snow Grains                             25.000000  100.600000  \n",
       "Rain,Snow,Fog                                 6.400000  100.730000  \n",
       "Rain,Snow,Ice Pellets                         6.000000  100.105000  \n",
       "Snow                                         11.171795  100.536103  \n",
       "Snow Pellets                                  2.400000   99.700000  \n",
       "Snow Showers                                 20.158333  100.963500  \n",
       "Snow Showers,Fog                              7.025000  101.292500  \n",
       "Snow,Blowing Snow                             4.105263   99.704737  \n",
       "Snow,Fog                                      4.537838  100.688649  \n",
       "Snow,Haze                                     4.640000  100.782000  \n",
       "Snow,Ice Pellets                              7.416667  100.548333  \n",
       "Thunderstorms                                24.550000  100.230000  \n",
       "Thunderstorms,Heavy Rain Showers              2.400000  100.260000  \n",
       "Thunderstorms,Moderate Rain Showers,Fog       3.200000  100.010000  \n",
       "Thunderstorms,Rain                           19.833333  100.420000  \n",
       "Thunderstorms,Rain Showers                   15.893750  100.233750  \n",
       "Thunderstorms,Rain Showers,Fog                9.700000  100.063333  \n",
       "Thunderstorms,Rain,Fog                        4.800000  100.080000  "
      ]
     },
     "execution_count": 13,
     "metadata": {},
     "output_type": "execute_result"
    }
   ],
   "source": [
    "data.groupby(\"Weather\").mean()"
   ]
  },
  {
   "cell_type": "markdown",
   "id": "957259ae",
   "metadata": {},
   "source": [
    "# Checking the correlation in the dataset"
   ]
  },
  {
   "cell_type": "code",
   "execution_count": 25,
   "id": "57f9d6b9",
   "metadata": {
    "scrolled": true
   },
   "outputs": [
    {
     "data": {
      "text/plain": [
       "<AxesSubplot:>"
      ]
     },
     "execution_count": 25,
     "metadata": {},
     "output_type": "execute_result"
    },
    {
     "data": {
      "image/png": "[encoded data removed]",
      "text/plain": [
       "<Figure size 1700x600 with 2 Axes>"
      ]
     },
     "metadata": {},
     "output_type": "display_data"
    }
   ],
   "source": [
    "plt.figure(figsize=(17,6))\n",
    "sns.heatmap(data.corr(),annot=True)"
   ]
  },
  {
   "cell_type": "code",
   "execution_count": null,
   "id": "85765647",
   "metadata": {},
   "outputs": [],
   "source": [
    "# There is a slight correlation between visibility and Relative humidity which is inversely propotional"
   ]
  },
  {
   "cell_type": "markdown",
   "id": "050c5a33",
   "metadata": {},
   "source": [
    "# Correlation between Relative humidity and Visibility"
   ]
  },
  {
   "cell_type": "code",
   "execution_count": 44,
   "id": "d7b204f4",
   "metadata": {
    "scrolled": true
   },
   "outputs": [
    {
     "data": {
      "image/png": "[encoded data removed]",
      "text/plain": [
       "<Figure size 640x480 with 1 Axes>"
      ]
     },
     "metadata": {},
     "output_type": "display_data"
    }
   ],
   "source": [
    "data = data.iloc[2:7, :]\n",
    " \n",
    "sns.lineplot(x=\"Visibility_km\", y=\"Rel Hum_%\", data=data)\n",
    "\n",
    "plt.show()"
   ]
  },
  {
   "cell_type": "code",
   "execution_count": 99,
   "id": "67e4abe1",
   "metadata": {
    "scrolled": true
   },
   "outputs": [
    {
     "data": {
      "text/plain": [
       "<AxesSubplot:xlabel='Visibility_km', ylabel='Rel Hum_%'>"
      ]
     },
     "execution_count": 99,
     "metadata": {},
     "output_type": "execute_result"
    },
    {
     "data": {
      "image/png": "[encoded data removed]",
      "text/plain": [
       "<Figure size 640x480 with 1 Axes>"
      ]
     },
     "metadata": {},
     "output_type": "display_data"
    }
   ],
   "source": [
    "sns.boxplot(x='Visibility_km',y='Rel Hum_%',data=data)"
   ]
  },
  {
   "cell_type": "markdown",
   "id": "42e8282e",
   "metadata": {},
   "source": [
    "# Frequency distribution of Temperature"
   ]
  },
  {
   "cell_type": "code",
   "execution_count": 35,
   "id": "a4dc1126",
   "metadata": {
    "scrolled": true
   },
   "outputs": [
    {
     "data": {
      "text/plain": [
       "<AxesSubplot:xlabel='Temp_C', ylabel='Count'>"
      ]
     },
     "execution_count": 35,
     "metadata": {},
     "output_type": "execute_result"
    },
    {
     "data": {
      "image/png": "[encoded data removed]",
      "text/plain": [
       "<Figure size 640x480 with 1 Axes>"
      ]
     },
     "metadata": {},
     "output_type": "display_data"
    }
   ],
   "source": [
    "sns.histplot(data = data, x = \"Temp_C\", kde = True)"
   ]
  },
  {
   "cell_type": "markdown",
   "id": "9f6dca17",
   "metadata": {},
   "source": [
    "# scatter plot of month vs Temperature"
   ]
  },
  {
   "cell_type": "code",
   "execution_count": null,
   "id": "0a042c31",
   "metadata": {},
   "outputs": [],
   "source": [
    "sns.set(style='whitegrid')\n",
    "sns.scatterplot(x=\"mmm_yy\",\n",
    "                    y=\"Temp_C\",\n",
    "                    data=data)\n"
   ]
  },
  {
   "cell_type": "markdown",
   "id": "9e8c188a",
   "metadata": {},
   "source": [
    "# Frequency distribution of Relative Humidity"
   ]
  },
  {
   "cell_type": "code",
   "execution_count": 92,
   "id": "f3423072",
   "metadata": {
    "scrolled": true
   },
   "outputs": [
    {
     "data": {
      "text/plain": [
       "<AxesSubplot:>"
      ]
     },
     "execution_count": 92,
     "metadata": {},
     "output_type": "execute_result"
    },
    {
     "data": {
      "image/png": "[encoded data removed]",
      "text/plain": [
       "<Figure size 640x480 with 1 Axes>"
      ]
     },
     "metadata": {},
     "output_type": "display_data"
    }
   ],
   "source": [
    "data['Rel Hum_%'].hist()"
   ]
  },
  {
   "cell_type": "markdown",
   "id": "1010a0d9",
   "metadata": {},
   "source": [
    "# Boxplot of Wind speed"
   ]
  },
  {
   "cell_type": "code",
   "execution_count": 102,
   "id": "7d9a9535",
   "metadata": {},
   "outputs": [
    {
     "data": {
      "text/plain": [
       "<AxesSubplot:xlabel='Wind Speed_km/h'>"
      ]
     },
     "execution_count": 102,
     "metadata": {},
     "output_type": "execute_result"
    },
    {
     "data": {
      "image/png": "[encoded data removed]",
      "text/plain": [
       "<Figure size 640x480 with 1 Axes>"
      ]
     },
     "metadata": {},
     "output_type": "display_data"
    }
   ],
   "source": [
    "sns.set(style=\"whitegrid\")\n",
    " \n",
    "sns.boxplot(x = data['Wind Speed_km/h'])"
   ]
  }
 ],
 "metadata": {
  "kernelspec": {
   "display_name": "Python 3 (ipykernel)",
   "language": "python",
   "name": "python3"
  },
  "language_info": {
   "codemirror_mode": {
    "name": "ipython",
    "version": 3
   },
   "file_extension": ".py",
   "mimetype": "text/x-python",
   "name": "python",
   "nbconvert_exporter": "python",
   "pygments_lexer": "ipython3",
   "version": "3.9.13"
  }
 },
 "nbformat": 4,
 "nbformat_minor": 5
}
